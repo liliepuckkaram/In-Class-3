{
 "cells": [
  {
   "cell_type": "markdown",
   "metadata": {
    "id": "tun1mnJYNbIM"
   },
   "source": [
    "# Python Programming - In-Class Assignment\n"
   ]
  },
  {
   "cell_type": "markdown",
   "metadata": {
    "id": "hJmYSapYNbIY"
   },
   "source": [
    "Step 0: Import necessary libraries"
   ]
  },
  {
   "cell_type": "code",
   "execution_count": null,
   "metadata": {
    "colab": {
     "base_uri": "https://localhost:8080/",
     "height": 225
    },
    "id": "de41t7OuNbIY",
    "outputId": "94697889-425d-4706-cb5b-f8dbfa778c3e"
   },
   "outputs": [],
   "source": [
    "import pandas as pd\n",
    "import matplotlib.pyplot as plt\n",
    "import seaborn as sns\n",
    "import numpy as np\n",
    "\n",
    "# Load the 'tips' dataset from seaborn\n",
    "titanic_data = sns.load_dataset('titanic')\n",
    "\n",
    "titanic_data.head()"
   ]
  },
  {
   "cell_type": "markdown",
   "metadata": {
    "id": "f__Tq7b-NbIY"
   },
   "source": [
    "Task 1: Calculate overall survival rate"
   ]
  },
  {
   "cell_type": "code",
   "execution_count": null,
   "metadata": {
    "id": "GtToebaRNbIY"
   },
   "outputs": [],
   "source": [
    "# Calculate overall survival rate\n",
    "overall_survival_rate = titanic_data['survived'].mean() * 100\n",
    "print(f'Overall Survival Rate: {overall_survival_rate:.2f}%')"
   ]
  },
  {
   "cell_type": "markdown",
   "metadata": {
    "id": "qNWGU8xyNbIY"
   },
   "source": [
    "Task 2: Calculate and print the survival rates by gender ('sex'), passenger class ('class'), and embarkation point ('embarked').\n",
    "\n"
   ]
  },
  {
   "cell_type": "code",
   "execution_count": null,
   "metadata": {
    "id": "peIapmZPNbIY"
   },
   "outputs": [],
   "source": [
    "# Calculate survival rates by gender\n",
    "survival_rate_by_gender = titanic_data.groupby('sex')['survived'].mean() * 100\n",
    "print('Survival Rate by Gender:')\n",
    "print(survival_rate_by_gender)\n",
    "\n",
    "survival_rate_by_gender.plot(kind='bar')"
   ]
  },
  {
   "cell_type": "code",
   "execution_count": null,
   "metadata": {},
   "outputs": [],
   "source": [
    "# Calculate survival rates by passenger class\n",
    "survival_rate_by_class = titanic_data.groupby('class')['survived'].mean() * 100\n",
    "print('Survival Rate by Passenger Class:')\n",
    "print(survival_rate_by_class)\n",
    "\n",
    "survival_rate_by_class.plot(kind='bar', color='green')"
   ]
  },
  {
   "cell_type": "code",
   "execution_count": null,
   "metadata": {},
   "outputs": [],
   "source": [
    "# Calculate survival rates by embarkation point\n",
    "survival_rate_by_embarked = titanic_data.groupby('embarked')['survived'].mean() * 100\n",
    "print('Survival Rate by Embarkation Point:')\n",
    "print(survival_rate_by_embarked)\n",
    "\n",
    "survival_rate_by_embarked.plot(kind='bar', color='red')"
   ]
  },
  {
   "cell_type": "markdown",
   "metadata": {
    "id": "LwZODKUPNbIY"
   },
   "source": [
    "Task 3: Calculate the survival rate by age group (e.g., under 12 as child, 13-20 as teen, 21-40 as adult, 41-60 as middle-aged, above 61 as senior)."
   ]
  },
  {
   "cell_type": "code",
   "execution_count": null,
   "metadata": {
    "id": "wkbNlpsGNbIY"
   },
   "outputs": [],
   "source": [
    "# Manipulate age groups\n",
    "bins = [0, 12, 20, 40, 60, np.inf]\n",
    "labels = ['Child', 'Teen', 'Adult', 'Middle-Aged', 'Senior']\n",
    "titanic_data['age_group'] = pd.cut(titanic_data['age'], bins=bins, labels=labels)\n",
    "\n",
    "# Calculate survival rates by age group\n",
    "survival_rate_by_age_group = titanic_data.groupby('age_group')['survived'].mean() * 100\n",
    "print('Survival Rate by Age Group:')\n",
    "print(survival_rate_by_age_group)\n",
    "\n",
    "survival_rate_by_age_group.plot(kind='bar', color='orange')\n"
   ]
  },
  {
   "cell_type": "markdown",
   "metadata": {
    "id": "lmeLDWyZNbIY"
   },
   "source": [
    "Task 4: Create a box plot for age distribution by survival."
   ]
  },
  {
   "cell_type": "code",
   "execution_count": null,
   "metadata": {
    "id": "EN3VsDYwNbIY"
   },
   "outputs": [],
   "source": [
    "# Create a box plot for age distribution by survival\n",
    "plt.figure(figsize=(10, 6))\n",
    "sns.boxplot(x='survived', y='age', data=titanic_data)\n",
    "plt.title('Age Distribution of Survivors vs. Non-Survivors')\n",
    "plt.xlabel('Survived')\n",
    "plt.ylabel('Age')\n",
    "plt.xticks([0, 1], ['Did Not Survive', 'Survived'])  # Rename x-ticks for clarity\n",
    "plt.show()"
   ]
  },
  {
   "cell_type": "markdown",
   "metadata": {
    "id": "6d9d7wOFNbIY"
   },
   "source": [
    "Task 5: Create a stacked bar chart to visualize the distribution of Titanic passengers by class, using different colors to represent survival status within each class."
   ]
  },
  {
   "cell_type": "code",
   "execution_count": null,
   "metadata": {
    "id": "Vw4QqZGHNbIY"
   },
   "outputs": [],
   "source": [
    "import matplotlib.pyplot as plt\n",
    "\n",
    "# Visualize the distribution of passengers based on class and sex using bar charts\n",
    "class_sex_dist = titanic_data.groupby(['class', 'survived']).size().unstack()\n",
    "\n",
    "# Plot the bar chart\n",
    "class_sex_dist.plot(kind='bar', stacked=True)\n",
    "plt.title('Distribution of Passengers by Class and Survival')\n",
    "plt.ylabel('Number of Passengers')\n",
    "plt.xlabel('Class')\n",
    "plt.xticks(rotation=0)\n",
    "plt.show()"
   ]
  },
  {
   "cell_type": "markdown",
   "metadata": {
    "id": "nrEn4MQJNbIZ"
   },
   "source": [
    "**Open-Ended Questions:** From our analysis, some more in-depth questions can be raised. Please discuss and attempt to answer them by using Python to perform data analysis and visualizations to support your claims. Keep in mind that there are no definitive answers to these questions.\n",
    "\n",
    "Question 1: Given, from task 2, the survival rates by embarkation point are as follows:\n",
    "\n",
    "| Embarkation Point | Survival Rate (%) |\n",
    "|-------------------|--------------------|\n",
    "| C                 | 55.36              |\n",
    "| Q                 | 38.96              |\n",
    "| S                 | 33.70              |\n",
    "\n",
    "does this indicate that, if you will be on the Titanic, better to select Port C as your embarkation point for increasing the chances of survival?"
   ]
  },
  {
   "cell_type": "markdown",
   "metadata": {
    "id": "BhwHqjQDNbIZ"
   },
   "source": [
    "No, because there can be correlation but not casuation from looking at the data alone. There are more factors involved including gender, strength, fitness, beyond just which point of embarkment that can correlate with survival rate. "
   ]
  },
  {
   "cell_type": "code",
   "execution_count": null,
   "metadata": {},
   "outputs": [],
   "source": [
    "# Optional: if you have code to support your Q1 discussion, please add it here."
   ]
  },
  {
   "cell_type": "markdown",
   "metadata": {
    "id": "h7dmtTP9NbIZ"
   },
   "source": [
    "Question 2: Given, from task 3, the survival rates by age group are as follows:\n",
    "\n",
    "| Age Group | Survival Rate (%) |\n",
    "|-----------|--------------------|\n",
    "| Child     | 57.97              |\n",
    "| Teen      | 38.18              |\n",
    "| Adult     | 39.74              |\n",
    "| Middle-Aged| 39.06              |\n",
    "| Senior    | 22.73              |\n",
    "\n",
    "Does this indicate that senior passengers were less taken care of?\n",
    "\n"
   ]
  },
  {
   "cell_type": "markdown",
   "metadata": {
    "id": "D5Tg27V6NbIZ"
   },
   "source": [
    "No, because there can be correlation but not casuation from looking at the data alone. The seniors could have died from natural causes (weaker, less fit), compared to children who also may have been prioritized when leaving the Titanic (\"Women and Children first!\"). "
   ]
  },
  {
   "cell_type": "code",
   "execution_count": 1,
   "metadata": {},
   "outputs": [],
   "source": [
    "# Optional: if you have code to support your Q2 discussion, please add it here.\n"
   ]
  }
 ],
 "metadata": {
  "colab": {
   "provenance": []
  },
  "kernelspec": {
   "display_name": "audio",
   "language": "python",
   "name": "python3"
  },
  "language_info": {
   "codemirror_mode": {
    "name": "ipython",
    "version": 3
   },
   "file_extension": ".py",
   "mimetype": "text/x-python",
   "name": "python",
   "nbconvert_exporter": "python",
   "pygments_lexer": "ipython3",
   "version": "3.9.7"
  }
 },
 "nbformat": 4,
 "nbformat_minor": 0
}
